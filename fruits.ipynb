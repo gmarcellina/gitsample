{
 "cells": [
  {
   "cell_type": "code",
   "execution_count": 1,
   "id": "6a2f98b0-67be-484e-aaae-60b7510669a1",
   "metadata": {},
   "outputs": [],
   "source": [
    "fruits = [\"Apples\", \"Oranges\", \"Mangoes\"]"
   ]
  },
  {
   "cell_type": "code",
   "execution_count": 2,
   "id": "f7e4262b-e76e-43ef-afcf-3c8b3f70920f",
   "metadata": {},
   "outputs": [
    {
     "data": {
      "text/plain": [
       "['Apples', 'Oranges', 'Mangoes']"
      ]
     },
     "execution_count": 2,
     "metadata": {},
     "output_type": "execute_result"
    }
   ],
   "source": [
    "fruits"
   ]
  },
  {
   "cell_type": "code",
   "execution_count": null,
   "id": "8ea94439-1e67-4f3a-984e-8033ef0f745c",
   "metadata": {},
   "outputs": [],
   "source": []
  }
 ],
 "metadata": {
  "kernelspec": {
   "display_name": "Python 3 (ipykernel)",
   "language": "python",
   "name": "python3"
  },
  "language_info": {
   "codemirror_mode": {
    "name": "ipython",
    "version": 3
   },
   "file_extension": ".py",
   "mimetype": "text/x-python",
   "name": "python",
   "nbconvert_exporter": "python",
   "pygments_lexer": "ipython3",
   "version": "3.9.12"
  }
 },
 "nbformat": 4,
 "nbformat_minor": 5
}
